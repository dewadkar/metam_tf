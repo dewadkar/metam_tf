{
 "cells": [
  {
   "cell_type": "code",
   "execution_count": 1,
   "metadata": {},
   "outputs": [
    {
     "name": "stderr",
     "output_type": "stream",
     "text": [
      "/Users/dewadkar/Library/Python/3.6/lib/python/site-packages/h5py/__init__.py:36: FutureWarning: Conversion of the second argument of issubdtype from `float` to `np.floating` is deprecated. In future, it will be treated as `np.float64 == np.dtype(float).type`.\n",
      "  from ._conv import register_converters as _register_converters\n"
     ]
    }
   ],
   "source": [
    "import tensorflow as tf"
   ]
  },
  {
   "cell_type": "markdown",
   "metadata": {},
   "source": [
    "Define Vector Variables for Input and Output\n"
   ]
  },
  {
   "cell_type": "code",
   "execution_count": 2,
   "metadata": {},
   "outputs": [],
   "source": [
    "train_in = [\n",
    "[0,0,1],\n",
    "[0,1,1],\n",
    "[1,0,1],\n",
    "[1,1,1]]\n",
    " \n",
    "train_out = [\n",
    "[0],\n",
    "[1],\n",
    "[1],\n",
    "[1]]    "
   ]
  },
  {
   "cell_type": "markdown",
   "metadata": {},
   "source": [
    "Define Weight Variable"
   ]
  },
  {
   "cell_type": "code",
   "execution_count": 3,
   "metadata": {},
   "outputs": [
    {
     "name": "stdout",
     "output_type": "stream",
     "text": [
      "WARNING:tensorflow:From /Library/Frameworks/Python.framework/Versions/3.6/lib/python3.6/site-packages/tensorflow/python/framework/op_def_library.py:263: colocate_with (from tensorflow.python.framework.ops) is deprecated and will be removed in a future version.\n",
      "Instructions for updating:\n",
      "Colocations handled automatically by placer.\n"
     ]
    }
   ],
   "source": [
    "w = tf.Variable(tf.random_normal([3, 1], seed=15))"
   ]
  },
  {
   "cell_type": "code",
   "execution_count": 4,
   "metadata": {},
   "outputs": [],
   "source": [
    "x = tf.placeholder(tf.float32,[None,3])\n",
    "y = tf.placeholder(tf.float32,[None,1])\n"
   ]
  },
  {
   "cell_type": "code",
   "execution_count": 5,
   "metadata": {},
   "outputs": [],
   "source": [
    "output = tf.nn.relu(tf.matmul(x, w))\n"
   ]
  },
  {
   "cell_type": "code",
   "execution_count": 6,
   "metadata": {},
   "outputs": [],
   "source": [
    "loss = tf.reduce_sum(tf.square(output - y))"
   ]
  },
  {
   "cell_type": "code",
   "execution_count": 7,
   "metadata": {},
   "outputs": [],
   "source": [
    "optimizer = tf.train.GradientDescentOptimizer(0.01)\n",
    "train = optimizer.minimize(loss)"
   ]
  },
  {
   "cell_type": "code",
   "execution_count": 8,
   "metadata": {},
   "outputs": [],
   "source": [
    "init = tf.global_variables_initializer()\n",
    "sess = tf.Session()\n",
    "sess.run(init)"
   ]
  },
  {
   "cell_type": "code",
   "execution_count": 10,
   "metadata": {},
   "outputs": [
    {
     "name": "stdout",
     "output_type": "stream",
     "text": [
      "Epoch-- 0 --loss-- 2.0738316\n",
      "Epoch-- 1 --loss-- 1.7192812\n",
      "Epoch-- 2 --loss-- 1.4468638\n",
      "Epoch-- 3 --loss-- 1.2370586\n",
      "Epoch-- 4 --loss-- 1.0750012\n",
      "Epoch-- 5 --loss-- 0.94937146\n",
      "Epoch-- 6 --loss-- 0.85154825\n",
      "Epoch-- 7 --loss-- 0.7749659\n",
      "Epoch-- 8 --loss-- 0.7146225\n",
      "Epoch-- 9 --loss-- 0.66670835\n",
      "Epoch-- 10 --loss-- 0.6283201\n",
      "Epoch-- 11 --loss-- 0.59724545\n",
      "Epoch-- 12 --loss-- 0.5717979\n",
      "Epoch-- 13 --loss-- 0.5506916\n",
      "Epoch-- 14 --loss-- 0.5329456\n",
      "Epoch-- 15 --loss-- 0.5178112\n",
      "Epoch-- 16 --loss-- 0.5047164\n",
      "Epoch-- 17 --loss-- 0.49322423\n",
      "Epoch-- 18 --loss-- 0.48300037\n",
      "Epoch-- 19 --loss-- 0.47378856\n",
      "Epoch-- 20 --loss-- 0.4653922\n",
      "Epoch-- 21 --loss-- 0.4576601\n",
      "Epoch-- 22 --loss-- 0.4504757\n",
      "Epoch-- 23 --loss-- 0.44374895\n",
      "Epoch-- 24 --loss-- 0.43740994\n",
      "Epoch-- 25 --loss-- 0.43140402\n",
      "Epoch-- 26 --loss-- 0.42568845\n",
      "Epoch-- 27 --loss-- 0.42022946\n",
      "Epoch-- 28 --loss-- 0.41500017\n",
      "Epoch-- 29 --loss-- 0.40997905\n",
      "Epoch-- 30 --loss-- 0.40514854\n",
      "Epoch-- 31 --loss-- 0.4004942\n",
      "Epoch-- 32 --loss-- 0.39600414\n",
      "Epoch-- 33 --loss-- 0.3916682\n",
      "Epoch-- 34 --loss-- 0.3874779\n",
      "Epoch-- 35 --loss-- 0.38342556\n",
      "Epoch-- 36 --loss-- 0.37950477\n",
      "Epoch-- 37 --loss-- 0.3757096\n",
      "Epoch-- 38 --loss-- 0.3720348\n",
      "Epoch-- 39 --loss-- 0.36847553\n",
      "Epoch-- 40 --loss-- 0.36502737\n",
      "Epoch-- 41 --loss-- 0.3616862\n",
      "Epoch-- 42 --loss-- 0.35844815\n",
      "Epoch-- 43 --loss-- 0.3553097\n",
      "Epoch-- 44 --loss-- 0.3522673\n",
      "Epoch-- 45 --loss-- 0.34931767\n",
      "Epoch-- 46 --loss-- 0.3464578\n",
      "Epoch-- 47 --loss-- 0.3436847\n",
      "Epoch-- 48 --loss-- 0.34099552\n",
      "Epoch-- 49 --loss-- 0.33838758\n",
      "Epoch-- 50 --loss-- 0.3358581\n",
      "Epoch-- 51 --loss-- 0.33340475\n",
      "Epoch-- 52 --loss-- 0.33102494\n",
      "Epoch-- 53 --loss-- 0.32871646\n",
      "Epoch-- 54 --loss-- 0.32647696\n",
      "Epoch-- 55 --loss-- 0.32430428\n",
      "Epoch-- 56 --loss-- 0.3221963\n",
      "Epoch-- 57 --loss-- 0.32015097\n",
      "Epoch-- 58 --loss-- 0.31816638\n",
      "Epoch-- 59 --loss-- 0.3162406\n",
      "Epoch-- 60 --loss-- 0.31437173\n",
      "Epoch-- 61 --loss-- 0.3125581\n",
      "Epoch-- 62 --loss-- 0.31079796\n",
      "Epoch-- 63 --loss-- 0.3090896\n",
      "Epoch-- 64 --loss-- 0.3074315\n",
      "Epoch-- 65 --loss-- 0.30582199\n",
      "Epoch-- 66 --loss-- 0.3042596\n",
      "Epoch-- 67 --loss-- 0.302743\n",
      "Epoch-- 68 --loss-- 0.30127063\n",
      "Epoch-- 69 --loss-- 0.29984125\n",
      "Epoch-- 70 --loss-- 0.29845342\n",
      "Epoch-- 71 --loss-- 0.29710594\n",
      "Epoch-- 72 --loss-- 0.29579756\n",
      "Epoch-- 73 --loss-- 0.2945271\n",
      "Epoch-- 74 --loss-- 0.29329345\n",
      "Epoch-- 75 --loss-- 0.29209533\n",
      "Epoch-- 76 --loss-- 0.29093188\n",
      "Epoch-- 77 --loss-- 0.2898019\n",
      "Epoch-- 78 --loss-- 0.2887044\n",
      "Epoch-- 79 --loss-- 0.28763843\n",
      "Epoch-- 80 --loss-- 0.286603\n",
      "Epoch-- 81 --loss-- 0.2855973\n",
      "Epoch-- 82 --loss-- 0.28462029\n",
      "Epoch-- 83 --loss-- 0.28367117\n",
      "Epoch-- 84 --loss-- 0.28274915\n",
      "Epoch-- 85 --loss-- 0.28185338\n",
      "Epoch-- 86 --loss-- 0.28098297\n",
      "Epoch-- 87 --loss-- 0.2801374\n",
      "Epoch-- 88 --loss-- 0.2793157\n",
      "Epoch-- 89 --loss-- 0.27851734\n",
      "Epoch-- 90 --loss-- 0.27774152\n",
      "Epoch-- 91 --loss-- 0.27698758\n",
      "Epoch-- 92 --loss-- 0.27625492\n",
      "Epoch-- 93 --loss-- 0.27554289\n",
      "Epoch-- 94 --loss-- 0.27485088\n",
      "Epoch-- 95 --loss-- 0.27417836\n",
      "Epoch-- 96 --loss-- 0.2735246\n",
      "Epoch-- 97 --loss-- 0.27288917\n",
      "Epoch-- 98 --loss-- 0.2722716\n",
      "Epoch-- 99 --loss-- 0.2716712\n"
     ]
    }
   ],
   "source": [
    "for i in range(100):\n",
    "    sess.run(train, {x:train_in,y:train_out})\n",
    "    cost = sess.run(loss,feed_dict={x:train_in,y:train_out})\n",
    "    print('Epoch--',i,'--loss--',cost)"
   ]
  },
  {
   "cell_type": "code",
   "execution_count": 14,
   "metadata": {},
   "outputs": [],
   "source": [
    "# activation = tf.nn.softmax(tf.matmul(x, w) + b) # Softmax "
   ]
  }
 ],
 "metadata": {
  "kernelspec": {
   "display_name": "Python 3",
   "language": "python",
   "name": "python3"
  },
  "language_info": {
   "codemirror_mode": {
    "name": "ipython",
    "version": 3
   },
   "file_extension": ".py",
   "mimetype": "text/x-python",
   "name": "python",
   "nbconvert_exporter": "python",
   "pygments_lexer": "ipython3",
   "version": "3.6.8"
  }
 },
 "nbformat": 4,
 "nbformat_minor": 2
}
