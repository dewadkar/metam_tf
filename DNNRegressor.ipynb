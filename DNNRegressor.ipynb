{
 "cells": [
  {
   "cell_type": "code",
   "execution_count": 11,
   "metadata": {},
   "outputs": [],
   "source": [
    "from __future__ import absolute_import\n",
    "from __future__ import division\n",
    "from __future__ import print_function\n",
    "\n",
    "import itertools\n",
    "\n",
    "import pandas as pd\n",
    "import tensorflow as tf\n"
   ]
  },
  {
   "cell_type": "code",
   "execution_count": 12,
   "metadata": {},
   "outputs": [],
   "source": [
    "tf.logging.set_verbosity(tf.logging.INFO)\n",
    "\n",
    "COLUMNS = [\"crim\", \"zn\", \"indus\", \"nox\", \"rm\", \"age\",\n",
    "           \"dis\", \"tax\", \"ptratio\", \"medv\"]\n",
    "FEATURES = [\"crim\", \"zn\", \"indus\", \"nox\", \"rm\",\n",
    "            \"age\", \"dis\", \"tax\", \"ptratio\"]\n",
    "LABEL = \"medv\"\n"
   ]
  },
  {
   "cell_type": "code",
   "execution_count": 13,
   "metadata": {},
   "outputs": [],
   "source": [
    "def get_input_fn(data_set, num_epochs=None, shuffle=True):\n",
    "  return tf.estimator.inputs.pandas_input_fn(\n",
    "      x=pd.DataFrame({k: data_set[k].values for k in FEATURES}),\n",
    "      y=pd.Series(data_set[LABEL].values),\n",
    "      num_epochs=num_epochs,\n",
    "      shuffle=shuffle)\n"
   ]
  },
  {
   "cell_type": "code",
   "execution_count": 16,
   "metadata": {},
   "outputs": [],
   "source": [
    "training_set = pd.read_csv(\"BostonHousing.csv\", skipinitialspace=True, skiprows=1, names=COLUMNS)\n",
    "test_set = pd.read_csv(\"BostonHousing.csv\", skipinitialspace=True, skiprows=1, names=COLUMNS)\n"
   ]
  },
  {
   "cell_type": "code",
   "execution_count": 17,
   "metadata": {},
   "outputs": [],
   "source": [
    "prediction_set = pd.read_csv(\"BostonHousing.csv\", skipinitialspace=True, skiprows=1, names=COLUMNS)"
   ]
  },
  {
   "cell_type": "code",
   "execution_count": null,
   "metadata": {},
   "outputs": [],
   "source": [
    "training_set.head(10)"
   ]
  },
  {
   "cell_type": "code",
   "execution_count": 15,
   "metadata": {},
   "outputs": [
    {
     "name": "stdout",
     "output_type": "stream",
     "text": [
      "INFO:tensorflow:Using default config.\n",
      "INFO:tensorflow:Using config: {'_model_dir': '/tmp/boston_model', '_tf_random_seed': None, '_save_summary_steps': 100, '_save_checkpoints_steps': None, '_save_checkpoints_secs': 600, '_session_config': allow_soft_placement: true\n",
      "graph_options {\n",
      "  rewrite_options {\n",
      "    meta_optimizer_iterations: ONE\n",
      "  }\n",
      "}\n",
      ", '_keep_checkpoint_max': 5, '_keep_checkpoint_every_n_hours': 10000, '_log_step_count_steps': 100, '_train_distribute': None, '_device_fn': None, '_protocol': None, '_eval_distribute': None, '_experimental_distribute': None, '_service': None, '_cluster_spec': <tensorflow.python.training.server_lib.ClusterSpec object at 0x12ac55e48>, '_task_type': 'worker', '_task_id': 0, '_global_id_in_cluster': 0, '_master': '', '_evaluation_master': '', '_is_chief': True, '_num_ps_replicas': 0, '_num_worker_replicas': 1}\n",
      "WARNING:tensorflow:From /Library/Frameworks/Python.framework/Versions/3.6/lib/python3.6/site-packages/tensorflow/python/framework/op_def_library.py:263: colocate_with (from tensorflow.python.framework.ops) is deprecated and will be removed in a future version.\n",
      "Instructions for updating:\n",
      "Colocations handled automatically by placer.\n",
      "WARNING:tensorflow:From /Library/Frameworks/Python.framework/Versions/3.6/lib/python3.6/site-packages/tensorflow_estimator/python/estimator/inputs/queues/feeding_queue_runner.py:62: QueueRunner.__init__ (from tensorflow.python.training.queue_runner_impl) is deprecated and will be removed in a future version.\n",
      "Instructions for updating:\n",
      "To construct input pipelines, use the `tf.data` module.\n",
      "WARNING:tensorflow:From /Library/Frameworks/Python.framework/Versions/3.6/lib/python3.6/site-packages/tensorflow_estimator/python/estimator/inputs/queues/feeding_functions.py:500: add_queue_runner (from tensorflow.python.training.queue_runner_impl) is deprecated and will be removed in a future version.\n",
      "Instructions for updating:\n",
      "To construct input pipelines, use the `tf.data` module.\n",
      "INFO:tensorflow:Calling model_fn.\n",
      "WARNING:tensorflow:From /Library/Frameworks/Python.framework/Versions/3.6/lib/python3.6/site-packages/tensorflow/python/feature_column/feature_column_v2.py:2703: to_float (from tensorflow.python.ops.math_ops) is deprecated and will be removed in a future version.\n",
      "Instructions for updating:\n",
      "Use tf.cast instead.\n",
      "INFO:tensorflow:Done calling model_fn.\n",
      "INFO:tensorflow:Create CheckpointSaverHook.\n",
      "INFO:tensorflow:Graph was finalized.\n",
      "INFO:tensorflow:Running local_init_op.\n",
      "INFO:tensorflow:Done running local_init_op.\n",
      "WARNING:tensorflow:From /Library/Frameworks/Python.framework/Versions/3.6/lib/python3.6/site-packages/tensorflow/python/training/monitored_session.py:809: start_queue_runners (from tensorflow.python.training.queue_runner_impl) is deprecated and will be removed in a future version.\n",
      "Instructions for updating:\n",
      "To construct input pipelines, use the `tf.data` module.\n",
      "INFO:tensorflow:Saving checkpoints for 0 into /tmp/boston_model/model.ckpt.\n",
      "INFO:tensorflow:loss = 3919424.0, step = 1\n",
      "INFO:tensorflow:global_step/sec: 184.192\n",
      "INFO:tensorflow:loss = 8554.936, step = 101 (0.497 sec)\n",
      "INFO:tensorflow:global_step/sec: 194.329\n",
      "INFO:tensorflow:loss = 6448.8564, step = 201 (0.516 sec)\n",
      "INFO:tensorflow:global_step/sec: 181.175\n",
      "INFO:tensorflow:loss = 10461.432, step = 301 (0.554 sec)\n",
      "INFO:tensorflow:global_step/sec: 216.72\n",
      "INFO:tensorflow:loss = 6255.036, step = 401 (0.461 sec)\n",
      "INFO:tensorflow:global_step/sec: 112.194\n",
      "INFO:tensorflow:loss = 6093.589, step = 501 (0.889 sec)\n",
      "INFO:tensorflow:global_step/sec: 127.369\n",
      "INFO:tensorflow:loss = 4582.1445, step = 601 (0.784 sec)\n",
      "INFO:tensorflow:global_step/sec: 229.521\n",
      "INFO:tensorflow:loss = 6472.092, step = 701 (0.436 sec)\n",
      "INFO:tensorflow:global_step/sec: 239.53\n",
      "INFO:tensorflow:loss = 4152.3555, step = 801 (0.417 sec)\n",
      "INFO:tensorflow:global_step/sec: 203.594\n",
      "INFO:tensorflow:loss = 4695.2993, step = 901 (0.492 sec)\n",
      "INFO:tensorflow:global_step/sec: 253.022\n",
      "INFO:tensorflow:loss = 6122.546, step = 1001 (0.395 sec)\n",
      "INFO:tensorflow:global_step/sec: 247.11\n",
      "INFO:tensorflow:loss = 5546.918, step = 1101 (0.405 sec)\n",
      "INFO:tensorflow:global_step/sec: 218.167\n",
      "INFO:tensorflow:loss = 4164.86, step = 1201 (0.458 sec)\n",
      "INFO:tensorflow:global_step/sec: 231.586\n",
      "INFO:tensorflow:loss = 6421.221, step = 1301 (0.431 sec)\n",
      "INFO:tensorflow:global_step/sec: 173.755\n",
      "INFO:tensorflow:loss = 6959.99, step = 1401 (0.575 sec)\n",
      "INFO:tensorflow:global_step/sec: 254.658\n",
      "INFO:tensorflow:loss = 5026.0, step = 1501 (0.392 sec)\n",
      "INFO:tensorflow:global_step/sec: 212.078\n",
      "INFO:tensorflow:loss = 5504.62, step = 1601 (0.475 sec)\n",
      "INFO:tensorflow:global_step/sec: 176.706\n",
      "INFO:tensorflow:loss = 6703.5176, step = 1701 (0.566 sec)\n",
      "INFO:tensorflow:global_step/sec: 200.52\n",
      "INFO:tensorflow:loss = 5226.387, step = 1801 (0.496 sec)\n",
      "INFO:tensorflow:global_step/sec: 207.632\n",
      "INFO:tensorflow:loss = 5160.641, step = 1901 (0.481 sec)\n",
      "INFO:tensorflow:global_step/sec: 223.901\n",
      "INFO:tensorflow:loss = 6855.3467, step = 2001 (0.447 sec)\n",
      "INFO:tensorflow:global_step/sec: 237.013\n",
      "INFO:tensorflow:loss = 4097.3115, step = 2101 (0.425 sec)\n",
      "INFO:tensorflow:global_step/sec: 190.625\n",
      "INFO:tensorflow:loss = 4140.368, step = 2201 (0.524 sec)\n",
      "INFO:tensorflow:global_step/sec: 216.209\n",
      "INFO:tensorflow:loss = 4727.1426, step = 2301 (0.460 sec)\n",
      "INFO:tensorflow:global_step/sec: 170.606\n",
      "INFO:tensorflow:loss = 4221.157, step = 2401 (0.587 sec)\n",
      "INFO:tensorflow:global_step/sec: 246.931\n",
      "INFO:tensorflow:loss = 3341.788, step = 2501 (0.405 sec)\n",
      "INFO:tensorflow:global_step/sec: 226.355\n",
      "INFO:tensorflow:loss = 4544.8374, step = 2601 (0.441 sec)\n",
      "INFO:tensorflow:global_step/sec: 158.324\n",
      "INFO:tensorflow:loss = 5812.1025, step = 2701 (0.633 sec)\n",
      "INFO:tensorflow:global_step/sec: 146.2\n",
      "INFO:tensorflow:loss = 5354.944, step = 2801 (0.683 sec)\n",
      "INFO:tensorflow:global_step/sec: 198.885\n",
      "INFO:tensorflow:loss = 5063.882, step = 2901 (0.504 sec)\n",
      "INFO:tensorflow:global_step/sec: 215.569\n",
      "INFO:tensorflow:loss = 4821.1016, step = 3001 (0.464 sec)\n",
      "INFO:tensorflow:global_step/sec: 180.871\n",
      "INFO:tensorflow:loss = 4373.4707, step = 3101 (0.553 sec)\n",
      "INFO:tensorflow:global_step/sec: 258.01\n",
      "INFO:tensorflow:loss = 3538.891, step = 3201 (0.390 sec)\n",
      "INFO:tensorflow:global_step/sec: 198.033\n",
      "INFO:tensorflow:loss = 3949.8076, step = 3301 (0.501 sec)\n",
      "INFO:tensorflow:global_step/sec: 180.876\n",
      "INFO:tensorflow:loss = 2937.3062, step = 3401 (0.556 sec)\n",
      "INFO:tensorflow:global_step/sec: 165.837\n",
      "INFO:tensorflow:loss = 4721.544, step = 3501 (0.602 sec)\n",
      "INFO:tensorflow:global_step/sec: 162.408\n",
      "INFO:tensorflow:loss = 4123.5176, step = 3601 (0.615 sec)\n",
      "INFO:tensorflow:global_step/sec: 175.86\n",
      "INFO:tensorflow:loss = 4854.9785, step = 3701 (0.569 sec)\n",
      "INFO:tensorflow:global_step/sec: 199.231\n",
      "INFO:tensorflow:loss = 3526.0383, step = 3801 (0.505 sec)\n",
      "INFO:tensorflow:global_step/sec: 235.808\n",
      "INFO:tensorflow:loss = 5560.9746, step = 3901 (0.419 sec)\n",
      "INFO:tensorflow:global_step/sec: 204.824\n",
      "INFO:tensorflow:loss = 3782.247, step = 4001 (0.490 sec)\n",
      "INFO:tensorflow:global_step/sec: 212.891\n",
      "INFO:tensorflow:loss = 3441.3948, step = 4101 (0.470 sec)\n",
      "INFO:tensorflow:global_step/sec: 144.738\n",
      "INFO:tensorflow:loss = 2531.148, step = 4201 (0.692 sec)\n",
      "INFO:tensorflow:global_step/sec: 225.231\n",
      "INFO:tensorflow:loss = 4090.8064, step = 4301 (0.443 sec)\n",
      "INFO:tensorflow:global_step/sec: 207.11\n",
      "INFO:tensorflow:loss = 4327.773, step = 4401 (0.483 sec)\n",
      "INFO:tensorflow:global_step/sec: 230.954\n",
      "INFO:tensorflow:loss = 3018.401, step = 4501 (0.433 sec)\n",
      "INFO:tensorflow:global_step/sec: 237.205\n",
      "INFO:tensorflow:loss = 4903.383, step = 4601 (0.420 sec)\n",
      "INFO:tensorflow:global_step/sec: 263.344\n",
      "INFO:tensorflow:loss = 4951.4316, step = 4701 (0.380 sec)\n",
      "INFO:tensorflow:global_step/sec: 221.17\n",
      "INFO:tensorflow:loss = 3598.9705, step = 4801 (0.452 sec)\n",
      "INFO:tensorflow:global_step/sec: 225.81\n",
      "INFO:tensorflow:loss = 3810.8005, step = 4901 (0.443 sec)\n",
      "INFO:tensorflow:Saving checkpoints for 5000 into /tmp/boston_model/model.ckpt.\n",
      "INFO:tensorflow:Loss for final step: 4472.6743.\n"
     ]
    },
    {
     "data": {
      "text/plain": [
       "<tensorflow_estimator.python.estimator.canned.dnn.DNNRegressor at 0x12ac55c88>"
      ]
     },
     "execution_count": 15,
     "metadata": {},
     "output_type": "execute_result"
    }
   ],
   "source": [
    "feature_cols = [tf.feature_column.numeric_column(k) for k in FEATURES]\n",
    "\n",
    "regressor = tf.estimator.DNNRegressor(feature_columns=feature_cols, hidden_units=[10, 10], model_dir=\"/tmp/boston_model\")\n",
    "\n",
    "regressor.train(input_fn=get_input_fn(training_set), steps=5000)\n"
   ]
  },
  {
   "cell_type": "code",
   "execution_count": 18,
   "metadata": {},
   "outputs": [
    {
     "name": "stdout",
     "output_type": "stream",
     "text": [
      "INFO:tensorflow:Calling model_fn.\n",
      "INFO:tensorflow:Done calling model_fn.\n",
      "INFO:tensorflow:Starting evaluation at 2019-06-10T11:43:04Z\n",
      "INFO:tensorflow:Graph was finalized.\n",
      "WARNING:tensorflow:From /Library/Frameworks/Python.framework/Versions/3.6/lib/python3.6/site-packages/tensorflow/python/training/saver.py:1266: checkpoint_exists (from tensorflow.python.training.checkpoint_management) is deprecated and will be removed in a future version.\n",
      "Instructions for updating:\n",
      "Use standard file APIs to check for files with this prefix.\n",
      "INFO:tensorflow:Restoring parameters from /tmp/boston_model/model.ckpt-5000\n",
      "INFO:tensorflow:Running local_init_op.\n",
      "INFO:tensorflow:Done running local_init_op.\n",
      "INFO:tensorflow:Finished evaluation at 2019-06-10-11:43:05\n",
      "INFO:tensorflow:Saving dict for global step 5000: average_loss = 30.170258, global_step = 5000, label/mean = 22.532808, loss = 3816.5376, prediction/mean = 23.211958\n",
      "INFO:tensorflow:Saving 'checkpoint_path' summary for global step 5000: /tmp/boston_model/model.ckpt-5000\n",
      "Loss: 3816.537598\n"
     ]
    }
   ],
   "source": [
    "ev = regressor.evaluate(input_fn=get_input_fn(test_set, num_epochs=1, shuffle=False))\n",
    "loss_score = ev[\"loss\"]\n",
    "print(\"Loss: {0:f}\".format(loss_score))\n"
   ]
  },
  {
   "cell_type": "code",
   "execution_count": 20,
   "metadata": {},
   "outputs": [
    {
     "name": "stdout",
     "output_type": "stream",
     "text": [
      "INFO:tensorflow:Calling model_fn.\n",
      "INFO:tensorflow:Done calling model_fn.\n",
      "INFO:tensorflow:Graph was finalized.\n",
      "INFO:tensorflow:Restoring parameters from /tmp/boston_model/model.ckpt-5000\n",
      "INFO:tensorflow:Running local_init_op.\n",
      "INFO:tensorflow:Done running local_init_op.\n",
      "Predictions: [array([31.600006], dtype=float32), array([28.118765], dtype=float32), array([33.343502], dtype=float32), array([33.220554], dtype=float32), array([31.939352], dtype=float32), array([30.418709], dtype=float32)]\n"
     ]
    }
   ],
   "source": [
    "y = regressor.predict(input_fn=get_input_fn(prediction_set, num_epochs=1, shuffle=False))\n",
    "predictions = list(p[\"predictions\"] for p in itertools.islice(y, 6))\n",
    "print(\"Predictions: {}\".format(str(predictions)))"
   ]
  },
  {
   "cell_type": "code",
   "execution_count": null,
   "metadata": {},
   "outputs": [],
   "source": []
  }
 ],
 "metadata": {
  "kernelspec": {
   "display_name": "Python 3",
   "language": "python",
   "name": "python3"
  },
  "language_info": {
   "codemirror_mode": {
    "name": "ipython",
    "version": 3
   },
   "file_extension": ".py",
   "mimetype": "text/x-python",
   "name": "python",
   "nbconvert_exporter": "python",
   "pygments_lexer": "ipython3",
   "version": "3.6.8"
  }
 },
 "nbformat": 4,
 "nbformat_minor": 2
}
